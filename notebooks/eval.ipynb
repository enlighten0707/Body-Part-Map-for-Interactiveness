{
 "cells": [
  {
   "cell_type": "code",
   "execution_count": 2,
   "metadata": {},
   "outputs": [],
   "source": [
    "import torch\n",
    "import numpy as np\n",
    "import pickle\n",
    "import json\n",
    "import tqdm\n",
    "import os\n",
    "os.chdir(\"..\")"
   ]
  },
  {
   "cell_type": "markdown",
   "metadata": {},
   "source": [
    "# Interactiveness AP"
   ]
  },
  {
   "cell_type": "markdown",
   "metadata": {},
   "source": [
    "Result dir for stage-1: ./exp/bst_interactiveness; Result dir for stage-2: ./exp/bst_hoi.\n",
    "\n",
    "We report interactiveness AP for stage-1 here."
   ]
  },
  {
   "cell_type": "code",
   "execution_count": 39,
   "metadata": {},
   "outputs": [
    {
     "name": "stdout",
     "output_type": "stream",
     "text": [
      "interactiveness AP:  38.738927236433526\n"
     ]
    }
   ],
   "source": [
    "from binary_evaluation import calc_binary\n",
    "\n",
    "res = pickle.load(open(\"./exp/bst_interactiveness/bst_result_binary.pkl\", \"rb\")) # layer3: 37.91\n",
    "keys, bboxes, score = res[\"keys\"], res[\"bboxes\"], res[\"scores\"]\n",
    "bin_ap, bin_rec = calc_binary(keys, bboxes, score)\n",
    "print(\"interactiveness AP: \", 100 * bin_ap)"
   ]
  },
  {
   "cell_type": "markdown",
   "metadata": {},
   "source": [
    "# Utils"
   ]
  },
  {
   "cell_type": "code",
   "execution_count": null,
   "metadata": {},
   "outputs": [],
   "source": [
    "rare_index = np.array([ 9, 23,28, 45,51, 56,63, 64,67, 71,77, 78,81, 84,85, 91,100,101,105,108,113,128,136,137,150,159,166,167,169,173,180,182,185,189,190,193,196,199,206,207,215,217,223,228,230,239,240,255,256,258,261,262,263,275,280,281,282,287,290,293,304,312,316,318,326,329,334,335,346,351,352,355,359,365,380,382,390,391,392,396,398,399,400,402,403,404,405,406,408,411,417,419,427,428,430,432,437,440,441,450,452,464,470,475,483,486,499,500,505,510,515,518,521,523,527,532,536,540,547,548,549,550,551,552,553,556,557,561,579,581,582,587,593,594,596,597,598,600,]) - 1\n",
    "rare = np.zeros(600)\n",
    "rare[rare_index] += 2\n",
    "def iou(bb1, bb2, debug=False):\n",
    "    x1 = bb1[2] - bb1[0]\n",
    "    y1 = bb1[3] - bb1[1]\n",
    "    if x1 < 0:\n",
    "        x1 = 0\n",
    "    if y1 < 0:\n",
    "        y1 = 0\n",
    "    \n",
    "    x2 = bb2[2] - bb2[0]\n",
    "    y2 = bb2[3] - bb2[1]\n",
    "    if x2 < 0:\n",
    "        x2 = 0\n",
    "    if y2 < 0:\n",
    "        y2 = 0\n",
    "    \n",
    "    xiou = min(bb1[2], bb2[2]) - max(bb1[0], bb2[0])\n",
    "    yiou = min(bb1[3], bb2[3]) - max(bb1[1], bb2[1])\n",
    "    if xiou < 0:\n",
    "        xiou = 0\n",
    "    if yiou < 0:\n",
    "        yiou = 0\n",
    "\n",
    "    if debug:\n",
    "        print(x1, y1, x2, y2, xiou, yiou)\n",
    "        print(x1 * y1, x2 * y2, xiou * yiou)\n",
    "    if xiou * yiou <= 0:\n",
    "        return 0\n",
    "    else:\n",
    "        return xiou * yiou / (x1 * y1 + x2 * y2 - xiou * yiou)\n",
    "\n",
    "def calc_hit(det, gtbox):\n",
    "    gtbox = gtbox.astype(np.float64)\n",
    "    hiou = iou(det[:4], gtbox[:4])\n",
    "    oiou = iou(det[4:], gtbox[4:])\n",
    "    return min(hiou, oiou)\n",
    "\n",
    "def nms(scores, bboxes, keys, thresh=0.6):\n",
    "    idx = np.argsort(scores)[::-1]\n",
    "    chosen = np.ones(len(idx))\n",
    "    for i in range(len(idx)):\n",
    "        if chosen[idx[i]] > 0:\n",
    "            hbox = bboxes[idx[i], :4]\n",
    "            obox = bboxes[idx[i], 4:]\n",
    "            key  = keys[idx[i]]\n",
    "            sel  = np.where(keys == key)[0]\n",
    "            for j in sel:\n",
    "                if idx[i] != j and iou(hbox, bboxes[j, :4]) > thresh and iou(obox, bboxes[j, 4:]) > thresh:\n",
    "                    chosen[j] = 0\n",
    "    index = np.where(chosen > 0)[0]\n",
    "    dump  = np.where(chosen < 1)[0]\n",
    "    return index\n",
    "\n",
    "def calc_ap_ko(scores, bboxes, keys, hoi_id, begin, ko_mask, hit_info=False):\n",
    "    score = scores[:, hoi_id - begin]\n",
    "    hit, hit_ko = [], []\n",
    "    idx = np.argsort(score)[::-1]\n",
    "    gt_bbox = pickle.load(open('./data/hico_20160224_det/annotations/gt_hoi.pkl', 'rb'))[hoi_id]\n",
    "    npos = 0\n",
    "    used = {}\n",
    "    \n",
    "    for key in gt_bbox.keys():\n",
    "        npos += gt_bbox[key].shape[0]\n",
    "        used[key] = set()\n",
    "    if len(idx) == 0:\n",
    "        output = {\n",
    "            'ap' : 0, 'rec': 0, 'ap_ko': 0, 'rec_ko': 0\n",
    "        }\n",
    "        return output\n",
    "    for i in range(min(len(idx), 19999)):\n",
    "        pair_id = idx[i]\n",
    "        bbox = bboxes[pair_id, :]\n",
    "        key  = keys[pair_id]\n",
    "        if key in gt_bbox:\n",
    "            maxi = 0.0\n",
    "            k    = -1\n",
    "            for i in range(gt_bbox[key].shape[0]):\n",
    "                tmp = calc_hit(bbox, gt_bbox[key][i, [0, 2, 1, 3, 4, 6, 5, 7]])\n",
    "                if maxi < tmp:\n",
    "                    maxi = tmp\n",
    "                    k    = i\n",
    "            if k in used[key] or maxi < 0.5:\n",
    "                hit.append(0)\n",
    "                hit_ko.append(0)\n",
    "            else:\n",
    "                hit.append(1)\n",
    "                hit_ko.append(1)\n",
    "                used[key].add(k)\n",
    "        else:\n",
    "            hit.append(0)\n",
    "            if key in ko_mask:\n",
    "                hit_ko.append(0)\n",
    "    bottom = np.array(range(len(hit))) + 1\n",
    "    hit    = np.cumsum(hit)\n",
    "    rec    = hit / npos\n",
    "    prec   = hit / bottom\n",
    "    ap     = 0.0\n",
    "    for i in range(11):\n",
    "        mask = rec >= (i / 10.0)\n",
    "        if np.sum(mask) > 0:\n",
    "            ap += np.max(prec[mask]) / 11.0\n",
    "    if len(hit_ko) == 0:\n",
    "        output = {\n",
    "            'ap' : ap, 'rec': np.max(rec), 'ap_ko': 0, 'rec_ko': 0\n",
    "        }\n",
    "        return output\n",
    "    bottom_ko = np.array(range(len(hit_ko))) + 1\n",
    "    hit_ko    = np.cumsum(hit_ko)\n",
    "    rec_ko    = hit_ko / npos\n",
    "    prec_ko   = hit_ko / bottom_ko\n",
    "    ap_ko     = 0.0\n",
    "    for i in range(11):\n",
    "        mask = rec_ko >= (i / 10.)\n",
    "        if np.sum(mask) > 0:\n",
    "            ap_ko += np.max(prec_ko[mask]) / 11.\n",
    "    output = {\n",
    "        'ap' : ap, 'rec': np.max(rec), 'ap_ko': ap_ko, 'rec_ko': np.max(rec_ko)\n",
    "    }\n",
    "    return output\n",
    "\n",
    "def calc_ap(scores, bboxes, keys, hoi_id, begin):\n",
    "    score = scores[:, hoi_id - begin]\n",
    "    hit, hit_ko = [], []\n",
    "    idx = np.argsort(score)[::-1]\n",
    "    gt_bbox = pickle.load(open('./data/hico_20160224_det/annotations/gt_hoi.pkl', 'rb'))[hoi_id]\n",
    "    npos = 0\n",
    "    used = {}\n",
    "    \n",
    "    for key in gt_bbox.keys():\n",
    "        npos += gt_bbox[key].shape[0]\n",
    "        used[key] = set()\n",
    "    if len(idx) == 0:\n",
    "        output = {\n",
    "            'ap' : 0, 'rec': 0, 'ap_ko': 0, 'rec_ko': 0\n",
    "        }\n",
    "        return output\n",
    "    for i in range(min(len(idx), 19999)):\n",
    "        pair_id = idx[i]\n",
    "        bbox = bboxes[pair_id, :]\n",
    "        key  = keys[pair_id]\n",
    "        if key in gt_bbox:\n",
    "            maxi = 0.0\n",
    "            k    = -1\n",
    "            for i in range(gt_bbox[key].shape[0]):\n",
    "                tmp = calc_hit(bbox, gt_bbox[key][i, [0, 2, 1, 3, 4, 6, 5, 7]])\n",
    "                if maxi < tmp:\n",
    "                    maxi = tmp\n",
    "                    k    = i\n",
    "            if k in used[key] or maxi < 0.5:\n",
    "                hit.append(0)\n",
    "            else:\n",
    "                hit.append(1)\n",
    "                used[key].add(k)\n",
    "        else:\n",
    "            hit.append(0)\n",
    "    bottom = np.array(range(len(hit))) + 1\n",
    "    hit    = np.cumsum(hit)\n",
    "    rec    = hit / npos\n",
    "    prec   = hit / bottom\n",
    "    ap     = 0.0\n",
    "    for i in range(11):\n",
    "        mask = rec >= (i / 10.0)\n",
    "        if np.sum(mask) > 0:\n",
    "            ap += np.max(prec[mask]) / 11.0\n",
    "\n",
    "    output = {\n",
    "        'ap' : ap, 'rec': np.max(rec), 'hit': hit,\n",
    "    }\n",
    "    return output"
   ]
  },
  {
   "cell_type": "code",
   "execution_count": 6,
   "metadata": {},
   "outputs": [],
   "source": [
    "anno  = json.load(open('./data/hico_20160224_det/annotations/test_hico.json'))\n",
    "verb_mapping = pickle.load(open('./util/verb_mapping.pkl', 'rb'), encoding='latin1')\n",
    "vocab = pickle.load(open('./util/vocab.pkl', 'rb'))\n",
    "\n",
    "hico_verb_dict = {\n",
    "    1: 'adjust', 2: 'assemble', 3: 'block', 4: 'blow', 5: 'board', 6: 'break', 7: 'brush_with', 8: 'buy', 9: 'carry', 10: 'catch', 11: 'chase', 12: 'check', 13: 'clean', 14: 'control', 15: 'cook', 16: 'cut', 17: 'cut_with', 18: 'direct', 19: 'drag', 20: 'dribble', 21: 'drink_with', 22: 'drive', 23: 'dry', 24: 'eat', 25: 'eat_at', 26: 'exit', 27: 'feed', 28: 'fill', 29: 'flip', 30: 'flush', 31: 'fly', 32: 'greet', 33: 'grind', 34: 'groom', 35: 'herd', 36: 'hit', 37: 'hold', 38: 'hop_on', 39: 'hose', 40: 'hug', 41: 'hunt', 42: 'inspect', 43: 'install', 44: 'jump', 45: 'kick', 46: 'kiss', 47: 'lasso', 48: 'launch', 49: 'lick', 50: 'lie_on', 51: 'lift', 52: 'light', 53: 'load', 54: 'lose', 55: 'make', 56: 'milk', 57: 'move', 58: 'no_interaction', 59: 'open', 60: 'operate', 61: 'pack', 62: 'paint', 63: 'park', 64: 'pay', 65: 'peel', 66: 'pet', 67: 'pick', 68: 'pick_up', 69: 'point', 70: 'pour', 71: 'pull', 72: 'push', 73: 'race', 74: 'read', 75: 'release', 76: 'repair', 77: 'ride', 78: 'row', 79: 'run', 80: 'sail', 81: 'scratch', 82: 'serve', 83: 'set', 84: 'shear', 85: 'sign', 86: 'sip', 87: 'sit_at', 88: 'sit_on', 89: 'slide', 90: 'smell', 91: 'spin', 92: 'squeeze', 93: 'stab', 94: 'stand_on', 95: 'stand_under', 96: 'stick', 97: 'stir', 98: 'stop_at', 99: 'straddle', 100: 'swing', 101: 'tag', 102: 'talk_on', 103: 'teach', 104: 'text_on', 105: 'throw', 106: 'tie', 107: 'toast', 108: 'train', 109: 'turn', 110: 'type_on', 111: 'walk', 112: 'wash', 113: 'watch', 114: 'wave', 115: 'wear', 116: 'wield', 117: 'zip',\n",
    "}\n",
    "\n",
    "obj_range = [\n",
    "    (161, 170), (11, 24),   (66, 76),   (147, 160), (1, 10), \n",
    "    (55, 65),   (187, 194), (568, 576), (32, 46),   (563, 567), \n",
    "    (326, 330), (503, 506), (415, 418), (244, 247), (25, 31), \n",
    "    (77, 86),   (112, 129), (130, 146), (175, 186), (97, 107), \n",
    "    (314, 325), (236, 239), (596, 600), (343, 348), (209, 214), \n",
    "    (577, 584), (353, 356), (539, 546), (507, 516), (337, 342), \n",
    "    (464, 474), (475, 483), (489, 502), (369, 376), (225, 232), \n",
    "    (233, 235), (454, 463), (517, 528), (534, 538), (47, 54), \n",
    "    (589, 595), (296, 305), (331, 336), (377, 383), (484, 488), \n",
    "    (253, 257), (215, 224), (199, 208), (439, 445), (398, 407), \n",
    "    (258, 264), (274, 283), (357, 363), (419, 429), (306, 313), \n",
    "    (265, 273), (87, 92),   (93, 96),   (171, 174), (240, 243), \n",
    "    (108, 111), (551, 558), (195, 198), (384, 389), (394, 397), \n",
    "    (435, 438), (364, 368), (284, 290), (390, 393), (408, 414), \n",
    "    (547, 550), (450, 453), (430, 434), (248, 252), (291, 295), \n",
    "    (585, 588), (446, 449), (529, 533), (349, 352), (559, 562)\n",
    "]\n",
    "\n",
    "peyre_class_dict = {}\n",
    "for i in range(81, 81 + 117):\n",
    "    peyre_class_dict[vocab[i].replace(' ', '_')] = i - 81\n",
    "perm = list(range(117))\n",
    "for i in range(1, 118):\n",
    "    perm[i - 1] = peyre_class_dict[hico_verb_dict[i]]\n",
    "verb_mapping = verb_mapping[perm, :]"
   ]
  },
  {
   "cell_type": "markdown",
   "metadata": {},
   "source": [
    "# HOI mAP"
   ]
  },
  {
   "cell_type": "markdown",
   "metadata": {},
   "source": [
    "To evaluate HOI mAP, the result of stage-2 is first used. "
   ]
  },
  {
   "cell_type": "code",
   "execution_count": 40,
   "metadata": {},
   "outputs": [
    {
     "name": "stderr",
     "output_type": "stream",
     "text": [
      "100%|██████████| 9546/9546 [00:06<00:00, 1391.92it/s]\n"
     ]
    }
   ],
   "source": [
    "### prepare data\n",
    "exp_dir = \"bst_hoi\"\n",
    "res   = torch.load('./exp/%s/result.pth'%exp_dir, map_location=\"cpu\")\n",
    "idx, res = res['preds']\n",
    "\n",
    "a = {'keys': [], 'scores': [], 'bboxes': [], 'os': [], 'binary':[]}\n",
    "for key in a.keys():\n",
    "    for i in range(80):\n",
    "        a[key].append([])\n",
    "for i in tqdm.trange(len(res)):\n",
    "    res[i]['boxes']         = res[i]['boxes'].numpy()\n",
    "    res[i]['verb_scores']   = res[i]['verb_logits'].numpy()\n",
    "    res[i]['obj_scores']    = res[i]['obj_scores'].numpy()\n",
    "    pnum = res[i]['verb_scores'].shape[0]\n",
    "    obj_scores = res[i]['obj_scores']\n",
    "    tmp = res[i]['obj_scores'].argsort()[::-1]\n",
    "    orig_boxes = np.concatenate([res[i][\"boxes\"][np.arange(pnum)], res[i][\"boxes\"][np.arange(pnum, pnum * 2)]], axis=1)\n",
    "\n",
    "    for jj in range(64):\n",
    "        j = tmp[jj]\n",
    "        ocls = res[i]['labels'][j + pnum]\n",
    "        a['keys'][ocls].append(int(anno[idx[i]]['file_name'][-10:-4]))\n",
    "        a['bboxes'][ocls].append(np.concatenate([res[i]['boxes'][j], res[i]['boxes'][j + pnum]]))\n",
    "        a['scores'][ocls].append(res[i]['verb_scores'][j, obj_range[ocls][0] - 1:obj_range[ocls][1]])\n",
    "        a['os'][ocls].append(obj_scores[j])"
   ]
  },
  {
   "cell_type": "code",
   "execution_count": 42,
   "metadata": {},
   "outputs": [
    {
     "name": "stderr",
     "output_type": "stream",
     "text": [
      "100%|██████████| 80/80 [00:52<00:00,  1.54it/s]"
     ]
    },
    {
     "name": "stdout",
     "output_type": "stream",
     "text": [
      "mAP before nis:  0.34087173833186757\n"
     ]
    },
    {
     "name": "stderr",
     "output_type": "stream",
     "text": [
      "\n"
     ]
    }
   ],
   "source": [
    "### apply nms\n",
    "for key in a.keys():\n",
    "    for i in range(80):\n",
    "        a[key][i] = np.array(a[key][i])\n",
    "\n",
    "nms_index = pickle.load(open(\"./exp/%s/nms_index.pkl\"%exp_dir, \"rb\"))\n",
    "\n",
    "ap  = np.zeros(600)\n",
    "rec = np.zeros(600)\n",
    "for i in tqdm.trange(80):\n",
    "    if len(a['scores'][i]) == 0:\n",
    "        continue\n",
    "    begin = obj_range[i][0] - 1\n",
    "    end   = obj_range[i][1]\n",
    "\n",
    "    score = a['scores'][i] * a['os'][i][:, None]\n",
    "    bbox  = a['bboxes'][i]\n",
    "    key   = a['keys'][i]\n",
    "\n",
    "    score, bbox, key = score[nms_index[i]], bbox[nms_index[i]], key[nms_index[i]]\n",
    "\n",
    "    for hoi_id in range(begin, end):\n",
    "        output = calc_ap(score, bbox, key, hoi_id, begin)\n",
    "        ap[hoi_id], rec[hoi_id] = output[\"ap\"], output[\"rec\"]\n",
    "print(\"mAP before nis: \", ap.mean())"
   ]
  },
  {
   "cell_type": "markdown",
   "metadata": {},
   "source": [
    "Then, with NIS applied via the result of stage-1, HOI mAP is further boosted.\n",
    "\n",
    "For NIS, two predicted sets are matched before negative pairs filtering. It is detailed in Suppl.C in our paper."
   ]
  },
  {
   "cell_type": "code",
   "execution_count": 54,
   "metadata": {},
   "outputs": [
    {
     "name": "stderr",
     "output_type": "stream",
     "text": [
      "100%|██████████| 9546/9546 [00:00<00:00, 314520.91it/s]\n"
     ]
    }
   ],
   "source": [
    "### read interactiveness results\n",
    "exp_dir_binary = \"bst_interactiveness\"\n",
    "res_binary   = torch.load('./exp/%s/result.pth'%exp_dir_binary, map_location=\"cpu\")\n",
    "idx_binary, res_binary = res_binary['preds']\n",
    "Key2Idx = {}\n",
    "for i in tqdm.trange(len(res_binary)):\n",
    "    Key2Idx[int(anno[idx_binary[i][\"id\"]]['file_name'][-10:-4])] = i"
   ]
  },
  {
   "cell_type": "code",
   "execution_count": null,
   "metadata": {},
   "outputs": [],
   "source": [
    "# set matched\n",
    "for i in range(80):\n",
    "    if i % 10 == 0:\n",
    "        print(\"processing object %d...\"%i)\n",
    "    if len(a['scores'][i]) == 0:\n",
    "        continue\n",
    "    begin = obj_range[i][0] - 1\n",
    "    end   = obj_range[i][1]\n",
    "\n",
    "    score = a['scores'][i] * a['os'][i][:, None]\n",
    "    bbox  = a['bboxes'][i]\n",
    "    key   = a['keys'][i]\n",
    "\n",
    "    score, bbox, key = score[nms_index[i]], bbox[nms_index[i]], key[nms_index[i]]\n",
    "\n",
    "    binary = []\n",
    "    for j in range(len(key)):\n",
    "        k, b, s = key[j], bbox[j], score[j]\n",
    "        binary_result = res_binary[Key2Idx[k]]\n",
    "        binary_scores = binary_result[\"binary_scores\"].numpy()\n",
    "        binary_boxes = binary_result[\"boxes\"].numpy()\n",
    "        binary_boxes = np.concatenate([binary_boxes[np.arange(pnum)], binary_boxes[np.arange(pnum, pnum * 2)]], axis=1)\n",
    "        ious = []\n",
    "        for jj in range(64):\n",
    "            ious.append(calc_hit(b, binary_boxes[jj]))\n",
    "        ious = np.array(ious)\n",
    "        matched_idx = np.argsort(-ious)[0]\n",
    "        binary.append(binary_scores[matched_idx])\n",
    "    binary = np.array(binary)\n",
    "    a[\"binary\"][i] = binary\n",
    "\n",
    "for key in a.keys():\n",
    "    for i in range(80):\n",
    "        a[key][i] = np.array(a[key][i])\n",
    "pickle.dump(a, open('./exp/%s/matched_result.pkl'%exp_dir_binary, 'wb'))"
   ]
  },
  {
   "cell_type": "code",
   "execution_count": 55,
   "metadata": {},
   "outputs": [
    {
     "name": "stderr",
     "output_type": "stream",
     "text": [
      "100%|██████████| 80/80 [01:21<00:00,  1.02s/it]\n"
     ]
    }
   ],
   "source": [
    "### nis\n",
    "a = pickle.load(open(\"./exp/%s/matched_result.pkl\"%exp_dir_binary, \"rb\"))\n",
    "nms_index = pickle.load(open(\"./exp/%s/nms_index.pkl\"%exp_dir, \"rb\"))\n",
    "nis_fac = pickle.load(open(\"./exp/%s/nis_thres.pkl\"%exp_dir_binary, \"rb\"))\n",
    "\n",
    "ap  = np.zeros(600)\n",
    "rec = np.zeros(600)\n",
    "ap_ko  = np.zeros(600)\n",
    "rec_ko = np.zeros(600)\n",
    "\n",
    "for i in tqdm.trange(80):\n",
    "    if len(a['scores'][i]) == 0:\n",
    "        continue\n",
    "    begin = obj_range[i][0] - 1\n",
    "    end   = obj_range[i][1]\n",
    "\n",
    "    score = a['scores'][i] * a['os'][i][:, None]\n",
    "    bbox  = a['bboxes'][i]\n",
    "    key   = a['keys'][i]\n",
    "    binary = a['binary'][i]\n",
    "\n",
    "    score, bbox, key = score[nms_index[i]], bbox[nms_index[i]], key[nms_index[i]]\n",
    "\n",
    "    ko_mask = []\n",
    "    for hoi_id in range(begin, end):\n",
    "        gt_bbox = pickle.load(open('./data/hico_20160224_det/annotations/gt_hoi.pkl', 'rb'))[hoi_id]\n",
    "        ko_mask += list(gt_bbox.keys())\n",
    "    ko_mask = set(ko_mask)\n",
    "\n",
    "    for hoi_id in range(begin, end):\n",
    "        binary_mask = np.where(binary > nis_fac[hoi_id])[0]\n",
    "        cur_score, cur_bbox, cur_key = score[binary_mask], bbox[binary_mask], key[binary_mask]\n",
    "        output = calc_ap_ko(cur_score, cur_bbox, cur_key, hoi_id, begin, ko_mask)\n",
    "        ap[hoi_id], rec[hoi_id] = output[\"ap\"], output[\"rec\"]\n",
    "        ap_ko[hoi_id], rec_ko[hoi_id] = output[\"ap_ko\"], output[\"rec_ko\"]"
   ]
  },
  {
   "cell_type": "code",
   "execution_count": 57,
   "metadata": {},
   "outputs": [
    {
     "name": "stdout",
     "output_type": "stream",
     "text": [
      "Default -- Full: 35.15, Rare: 33.71, Non-Rare: 35.58\n",
      "Known Object -- Full: 37.56, Rare: 35.87, Non-Rare: 38.06\n"
     ]
    }
   ],
   "source": [
    "### final HOI mAP\n",
    "print(\"Default -- Full: %.2f, Rare: %.2f, Non-Rare: %.2f\"%(100 * np.mean(ap), 100 * np.mean(ap[rare_index-1]), 100 * np.mean(np.array([v for i,v in enumerate(ap) if i+1 not in rare_index]))))\n",
    "print(\"Known Object -- Full: %.2f, Rare: %.2f, Non-Rare: %.2f\"%(100 * np.mean(ap_ko), 100 * np.mean(ap_ko[rare_index-1]), 100 * np.mean(np.array([v for i,v in enumerate(ap_ko) if i+1 not in rare_index]))))"
   ]
  }
 ],
 "metadata": {
  "kernelspec": {
   "display_name": "Python 3.9.5 64-bit",
   "language": "python",
   "name": "python3"
  },
  "language_info": {
   "codemirror_mode": {
    "name": "ipython",
    "version": 3
   },
   "file_extension": ".py",
   "mimetype": "text/x-python",
   "name": "python",
   "nbconvert_exporter": "python",
   "pygments_lexer": "ipython3",
   "version": "3.9.5"
  },
  "vscode": {
   "interpreter": {
    "hash": "81794d4967e6c3204c66dcd87b604927b115b27c00565d3d43f05ba2f3a2cb0d"
   }
  }
 },
 "nbformat": 4,
 "nbformat_minor": 4
}
